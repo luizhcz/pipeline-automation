{
 "cells": [
  {
   "cell_type": "markdown",
   "id": "e918d03b",
   "metadata": {
    "papermill": {
     "duration": 0.001002,
     "end_time": "2025-04-28T23:01:09.818694",
     "exception": false,
     "start_time": "2025-04-28T23:01:09.817692",
     "status": "completed"
    },
    "tags": []
   },
   "source": [
    "# inventory_sync_v1"
   ]
  },
  {
   "cell_type": "code",
   "execution_count": 1,
   "id": "2a0bc691",
   "metadata": {
    "execution": {
     "iopub.execute_input": "2025-04-28T23:01:09.822695Z",
     "iopub.status.busy": "2025-04-28T23:01:09.821693Z",
     "iopub.status.idle": "2025-04-28T23:01:09.827629Z",
     "shell.execute_reply": "2025-04-28T23:01:09.827629Z"
    },
    "papermill": {
     "duration": 0.008942,
     "end_time": "2025-04-28T23:01:09.828635",
     "exception": false,
     "start_time": "2025-04-28T23:01:09.819693",
     "status": "completed"
    },
    "tags": [
     "parameters"
    ]
   },
   "outputs": [],
   "source": [
    "# Parameters\n",
    "rows = None\n",
    "output_filename = None"
   ]
  },
  {
   "cell_type": "code",
   "execution_count": 2,
   "id": "475d5f09",
   "metadata": {
    "execution": {
     "iopub.execute_input": "2025-04-28T23:01:09.831653Z",
     "iopub.status.busy": "2025-04-28T23:01:09.830654Z",
     "iopub.status.idle": "2025-04-28T23:01:09.833764Z",
     "shell.execute_reply": "2025-04-28T23:01:09.833764Z"
    },
    "papermill": {
     "duration": 0.004129,
     "end_time": "2025-04-28T23:01:09.833764",
     "exception": false,
     "start_time": "2025-04-28T23:01:09.829635",
     "status": "completed"
    },
    "tags": [
     "injected-parameters"
    ]
   },
   "outputs": [],
   "source": [
    "# Parameters\n",
    "rows = 4\n",
    "output_filename = \"C:\\\\Users\\\\Luiz\\\\Desktop\\\\ipynb_task_api\\\\outputs\\\\73e2f7f1-3254-43f8-980f-0255ced8c5db\\\\73e2f7f1-3254-43f8-980f-0255ced8c5db.xlsx\"\n"
   ]
  },
  {
   "cell_type": "code",
   "execution_count": 3,
   "id": "b65847ad",
   "metadata": {
    "execution": {
     "iopub.execute_input": "2025-04-28T23:01:09.838284Z",
     "iopub.status.busy": "2025-04-28T23:01:09.837283Z",
     "iopub.status.idle": "2025-04-28T23:01:10.302468Z",
     "shell.execute_reply": "2025-04-28T23:01:10.302468Z"
    },
    "papermill": {
     "duration": 0.4682,
     "end_time": "2025-04-28T23:01:10.303478",
     "exception": false,
     "start_time": "2025-04-28T23:01:09.835278",
     "status": "completed"
    },
    "tags": []
   },
   "outputs": [
    {
     "name": "stdout",
     "output_type": "stream",
     "text": [
      "✅ Excel salvo com sucesso em: C:\\Users\\Luiz\\Desktop\\ipynb_task_api\\outputs\\73e2f7f1-3254-43f8-980f-0255ced8c5db\\73e2f7f1-3254-43f8-980f-0255ced8c5db.xlsx\n"
     ]
    }
   ],
   "source": [
    "import os\n",
    "import pandas as pd\n",
    "\n",
    "params = dict(rows=rows)  # exemplo de output_filename\n",
    "\n",
    "# Cria o DataFrame\n",
    "df = pd.DataFrame({'n': list(range(params['rows']))})\n",
    "\n",
    "# Garante que o diretório de destino existe\n",
    "output_dir = os.path.dirname(output_filename)\n",
    "if output_dir:  # só tenta criar se existir diretório\n",
    "    os.makedirs(output_dir, exist_ok=True)\n",
    "\n",
    "# Salva o arquivo Excel\n",
    "df.to_excel(output_filename, index=False)\n",
    "\n",
    "print(f'✅ Excel salvo com sucesso em: {output_filename}')"
   ]
  }
 ],
 "metadata": {
  "language_info": {
   "codemirror_mode": {
    "name": "ipython",
    "version": 3
   },
   "file_extension": ".py",
   "mimetype": "text/x-python",
   "name": "python",
   "nbconvert_exporter": "python",
   "pygments_lexer": "ipython3",
   "version": "3.11.9"
  },
  "papermill": {
   "default_parameters": {},
   "duration": 4.108633,
   "end_time": "2025-04-28T23:01:12.635684",
   "environment_variables": {},
   "exception": null,
   "input_path": "C:\\Users\\Luiz\\Desktop\\ipynb_task_api\\notebooks\\inventory_sync_v1.ipynb",
   "output_path": "C:\\Users\\Luiz\\Desktop\\ipynb_task_api\\outputs\\73e2f7f1-3254-43f8-980f-0255ced8c5db\\executed_inventory_sync_v1.ipynb",
   "parameters": {
    "output_filename": "C:\\Users\\Luiz\\Desktop\\ipynb_task_api\\outputs\\73e2f7f1-3254-43f8-980f-0255ced8c5db\\73e2f7f1-3254-43f8-980f-0255ced8c5db.xlsx",
    "rows": 4
   },
   "start_time": "2025-04-28T23:01:08.527051",
   "version": "2.6.0"
  }
 },
 "nbformat": 4,
 "nbformat_minor": 5
}