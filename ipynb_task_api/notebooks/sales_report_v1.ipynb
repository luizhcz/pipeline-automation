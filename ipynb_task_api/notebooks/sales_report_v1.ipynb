{
 "cells": [
  {
   "cell_type": "markdown",
   "id": "0cc64a87",
   "metadata": {},
   "source": [
    "# sales_report_v1"
   ]
  },
  {
   "cell_type": "code",
   "execution_count": null,
   "id": "41f28c1f",
   "metadata": {
    "tags": [
     "parameters"
    ]
   },
   "outputs": [],
   "source": [
    "# Parameters\n",
    "year = \"\"\n",
    "output_filename = \"\""
   ]
  },
  {
   "cell_type": "code",
   "execution_count": null,
   "id": "836ffe79",
   "metadata": {},
   "outputs": [],
   "source": [
    "import json\n",
    "import os\n",
    "\n",
    "# Papermill injeta estes parâmetros (year e output_filename)\n",
    "params = dict(year=year)\n",
    "output_filename = output_filename if output_filename else 'output.json'\n",
    "\n",
    "data = {\n",
    "    'message': 'hello',\n",
    "    'year': params['year']\n",
    "}\n",
    "\n",
    "# Garante que o diretório de destino existe\n",
    "output_dir = os.path.dirname(output_filename)\n",
    "if output_dir:  # Só cria se tiver diretório especificado\n",
    "    os.makedirs(output_dir, exist_ok=True)\n",
    "\n",
    "# Salva o JSON de forma segura e bonita\n",
    "with open(output_filename, 'w', encoding='utf-8') as fp:\n",
    "    json.dump(data, fp, ensure_ascii=False, indent=4)\n",
    "\n",
    "print(f'✅ JSON salvo com sucesso em: {output_filename}')"
   ]
  }
 ],
 "metadata": {
  "language_info": {
   "name": "python"
  }
 },
 "nbformat": 4,
 "nbformat_minor": 5
}
