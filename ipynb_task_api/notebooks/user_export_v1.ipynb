{
 "cells": [
  {
   "cell_type": "markdown",
   "id": "0f7f1c1b",
   "metadata": {},
   "source": [
    "# user_export_v1"
   ]
  },
  {
   "cell_type": "code",
   "execution_count": null,
   "id": "a010246d",
   "metadata": {
    "tags": [
     "parameters"
    ]
   },
   "outputs": [],
   "source": [
    "# Parameters\n",
    "tag = None\n",
    "output_filename = None"
   ]
  },
  {
   "cell_type": "code",
   "execution_count": null,
   "id": "8a44c3c2",
   "metadata": {},
   "outputs": [],
   "source": [
    "import os\n",
    "import xml.etree.ElementTree as ET\n",
    "\n",
    "params = dict(tag=tag)  # exemplo com subpasta\n",
    "\n",
    "# Garante que o diretório de destino existe\n",
    "output_dir = os.path.dirname(output_filename)\n",
    "if output_dir:\n",
    "    os.makedirs(output_dir, exist_ok=True)\n",
    "\n",
    "# Cria o XML\n",
    "root = ET.Element(params['tag'])\n",
    "root.text = 'Hello XML'\n",
    "\n",
    "tree = ET.ElementTree(root)\n",
    "tree.write(output_filename, encoding='utf-8', xml_declaration=True)\n",
    "\n",
    "print(f'✅ XML salvo com sucesso em: {output_filename}')"
   ]
  }
 ],
 "metadata": {
  "language_info": {
   "name": "python"
  }
 },
 "nbformat": 4,
 "nbformat_minor": 5
}
