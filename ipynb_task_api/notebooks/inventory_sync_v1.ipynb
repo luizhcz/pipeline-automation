{
 "cells": [
  {
   "cell_type": "markdown",
   "id": "e918d03b",
   "metadata": {},
   "source": [
    "# inventory_sync_v1"
   ]
  },
  {
   "cell_type": "code",
   "execution_count": null,
   "id": "2a0bc691",
   "metadata": {
    "tags": [
     "parameters"
    ]
   },
   "outputs": [],
   "source": [
    "# Parameters\n",
    "rows = None\n",
    "output_filename = None"
   ]
  },
  {
   "cell_type": "code",
   "execution_count": null,
   "id": "b65847ad",
   "metadata": {},
   "outputs": [],
   "source": [
    "import os\n",
    "import pandas as pd\n",
    "\n",
    "params = dict(rows=rows)  # exemplo de output_filename\n",
    "\n",
    "# Cria o DataFrame\n",
    "df = pd.DataFrame({'n': list(range(params['rows']))})\n",
    "\n",
    "# Garante que o diretório de destino existe\n",
    "output_dir = os.path.dirname(output_filename)\n",
    "if output_dir:  # só tenta criar se existir diretório\n",
    "    os.makedirs(output_dir, exist_ok=True)\n",
    "\n",
    "# Salva o arquivo Excel\n",
    "df.to_excel(output_filename, index=False)\n",
    "\n",
    "print(f'✅ Excel salvo com sucesso em: {output_filename}')"
   ]
  }
 ],
 "metadata": {
  "language_info": {
   "name": "python"
  }
 },
 "nbformat": 4,
 "nbformat_minor": 5
}
